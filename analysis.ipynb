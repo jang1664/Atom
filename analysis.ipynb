{
 "cells": [
  {
   "cell_type": "code",
   "execution_count": 1,
   "metadata": {},
   "outputs": [],
   "source": [
    "%load_ext autoreload\n",
    "%autoreload 2"
   ]
  },
  {
   "cell_type": "code",
   "execution_count": 2,
   "metadata": {},
   "outputs": [],
   "source": [
    "import sys\n",
    "sys.path.append(\"./model\")"
   ]
  },
  {
   "cell_type": "code",
   "execution_count": 3,
   "metadata": {},
   "outputs": [],
   "source": [
    "import torch\n",
    "import argparse\n",
    "import functools"
   ]
  },
  {
   "cell_type": "code",
   "execution_count": 4,
   "metadata": {},
   "outputs": [],
   "source": [
    "import analyze\n",
    "from quant import *\n",
    "from outlier import *\n",
    "from eval import *\n",
    "from collections import defaultdict\n",
    "from pprint import pprint\n",
    "from modelutils_llama import quantize_model_llama, reorder_model_llama, quantize_model_gptq_llama,  add_act_quant_wrapper_llama\n",
    "from modelutils_opt import quantize_model_opt, reorder_model_opt, quantize_model_gptq_opt,  add_act_quant_wrapper_opt\n",
    "from modelutils_mixtral import quantize_model_mixtral, add_act_quant_wrapper_mixtral, reorder_model_mixtral\n",
    "from parallel_utils import map_layers_to_multi_gpus\n",
    "from LMClass import LMClass\n",
    "from eval import pattern_match\n",
    "from lm_eval import tasks as lm_tasks\n",
    "from lm_eval import evaluator as lm_evaluator\n",
    "from datautils import *"
   ]
  },
  {
   "cell_type": "code",
   "execution_count": 5,
   "metadata": {},
   "outputs": [],
   "source": [
    "torch.set_printoptions(precision=10)"
   ]
  },
  {
   "cell_type": "code",
   "execution_count": 6,
   "metadata": {},
   "outputs": [],
   "source": [
    "model = torch.load(\"./saved/llama2-7b_quantized.pth\")"
   ]
  },
  {
   "cell_type": "code",
   "execution_count": 7,
   "metadata": {},
   "outputs": [
    {
     "name": "stdout",
     "output_type": "stream",
     "text": [
      "LlamaForCausalLM(\n",
      "  (model): LlamaModel(\n",
      "    (embed_tokens): Embedding(32000, 4096)\n",
      "    (layers): ModuleList(\n",
      "      (0-31): 32 x QLlamaDecoderLayer(\n",
      "        (self_attn): QLlamaAttention(\n",
      "          (q_proj): QLinearLayer(\n",
      "            (quantizer): Quantizer_GPTQ()\n",
      "          )\n",
      "          (k_proj): QLinearLayer(\n",
      "            (quantizer): Quantizer_GPTQ()\n",
      "          )\n",
      "          (v_proj): QLinearLayer(\n",
      "            (quantizer): Quantizer_GPTQ()\n",
      "          )\n",
      "          (o_proj): QLinearLayer(\n",
      "            (quantizer): Quantizer_GPTQ()\n",
      "          )\n",
      "          (rotary_emb): LlamaRotaryEmbedding()\n",
      "          (act_quant): Quantizer()\n",
      "          (v_quant): Quantizer()\n",
      "          (k_quant): Quantizer()\n",
      "        )\n",
      "        (mlp): QLlamaMLP(\n",
      "          (gate_proj): QLinearLayer(\n",
      "            (quantizer): Quantizer_GPTQ()\n",
      "          )\n",
      "          (down_proj): QLinearLayer(\n",
      "            (quantizer): Quantizer_GPTQ()\n",
      "          )\n",
      "          (up_proj): QLinearLayer(\n",
      "            (quantizer): Quantizer_GPTQ()\n",
      "          )\n",
      "          (act_fn): SiLU()\n",
      "          (act_quant): Quantizer()\n",
      "        )\n",
      "        (input_layernorm): QLlamaRMSNorm(\n",
      "          (originalNorm): LlamaRMSNorm()\n",
      "          (act_quant): Quantizer()\n",
      "        )\n",
      "        (post_attention_layernorm): QLlamaRMSNorm(\n",
      "          (originalNorm): LlamaRMSNorm()\n",
      "          (act_quant): Quantizer()\n",
      "        )\n",
      "      )\n",
      "    )\n",
      "    (norm): LlamaRMSNorm()\n",
      "  )\n",
      "  (lm_head): Linear(in_features=4096, out_features=32000, bias=False)\n",
      ")\n"
     ]
    }
   ],
   "source": [
    "print(model)"
   ]
  },
  {
   "cell_type": "code",
   "execution_count": 8,
   "metadata": {},
   "outputs": [],
   "source": [
    "DEV = torch.device(\"cuda:0\")\n",
    "dataloader, testloader = get_loaders(\n",
    "    'wikitext2', seed=0, model=\"./llama2-7b\", seqlen=model.seqlen\n",
    ")"
   ]
  },
  {
   "cell_type": "code",
   "execution_count": 9,
   "metadata": {},
   "outputs": [
    {
     "name": "stderr",
     "output_type": "stream",
     "text": [
      "100%|██████████| 32/32 [00:22<00:00,  1.42it/s]\n"
     ]
    }
   ],
   "source": [
    "inputs, outputs = analyze.extract_io(model, testloader, DEV)"
   ]
  },
  {
   "cell_type": "code",
   "execution_count": 10,
   "metadata": {},
   "outputs": [
    {
     "ename": "NameError",
     "evalue": "name 'get_input_quant_param_dict' is not defined",
     "output_type": "error",
     "traceback": [
      "\u001b[0;31m---------------------------------------------------------------------------\u001b[0m",
      "\u001b[0;31mNameError\u001b[0m                                 Traceback (most recent call last)",
      "Cell \u001b[0;32mIn[10], line 1\u001b[0m\n\u001b[0;32m----> 1\u001b[0m quantized_inputs, scales, bases, dequantized_inputs \u001b[38;5;241m=\u001b[39m \u001b[43mget_input_quant_param_dict\u001b[49m(inputs)\n\u001b[1;32m      2\u001b[0m weights, bias, scales \u001b[38;5;241m=\u001b[39m get_weight_quant_param_dict(model)\n",
      "\u001b[0;31mNameError\u001b[0m: name 'get_input_quant_param_dict' is not defined"
     ]
    }
   ],
   "source": [
    "quantized_inputs, scales, bases, dequantized_inputs = analyze.get_input_quant_param_dict(inputs)\n",
    "weights, bias, scales = analyze.get_weight_quant_param_dict(model)"
   ]
  },
  {
   "cell_type": "code",
   "execution_count": null,
   "metadata": {},
   "outputs": [
    {
     "data": {
      "text/plain": [
       "3"
      ]
     },
     "execution_count": 12,
     "metadata": {},
     "output_type": "execute_result"
    }
   ],
   "source": [
    "len(next(iter(inputs.values())))"
   ]
  },
  {
   "cell_type": "code",
   "execution_count": null,
   "metadata": {},
   "outputs": [],
   "source": [
    "# torch.save(inputs, \"./saved/llama2-7b_inputs.pth\")\n",
    "# torch.save(outputs, \"./saved/llama2-7b_outputs.pth\")\n",
    "# torch.save(scales, \"./saved/llama2-7b_scales.pth\")"
   ]
  },
  {
   "cell_type": "code",
   "execution_count": null,
   "metadata": {},
   "outputs": [],
   "source": []
  }
 ],
 "metadata": {
  "kernelspec": {
   "display_name": "atom",
   "language": "python",
   "name": "python3"
  },
  "language_info": {
   "codemirror_mode": {
    "name": "ipython",
    "version": 3
   },
   "file_extension": ".py",
   "mimetype": "text/x-python",
   "name": "python",
   "nbconvert_exporter": "python",
   "pygments_lexer": "ipython3",
   "version": "3.10.14"
  }
 },
 "nbformat": 4,
 "nbformat_minor": 2
}
